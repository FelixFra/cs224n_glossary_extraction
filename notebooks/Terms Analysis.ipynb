{
 "cells": [
  {
   "cell_type": "code",
   "execution_count": 16,
   "metadata": {
    "ExecuteTime": {
     "end_time": "2019-03-14T22:19:32.206349Z",
     "start_time": "2019-03-14T22:19:32.202175Z"
    }
   },
   "outputs": [],
   "source": [
    "import pandas as pd\n",
    "import numpy as np\n",
    "import matplotlib.pyplot as plt\n",
    "import seaborn as sns\n",
    "import json\n",
    "\n",
    "# copy is a version where I cleaned up several really key term parsing issues\n",
    "data_dir = '../data/textbooks_extracted_copy'"
   ]
  },
  {
   "cell_type": "markdown",
   "metadata": {},
   "source": [
    "# DataSet Info\n",
    "\n",
    "Pulls together statistics on term data."
   ]
  },
  {
   "cell_type": "code",
   "execution_count": 20,
   "metadata": {
    "ExecuteTime": {
     "end_time": "2019-03-14T22:24:47.548585Z",
     "start_time": "2019-03-14T22:24:47.238810Z"
    }
   },
   "outputs": [
    {
     "data": {
      "text/html": [
       "<div>\n",
       "<style scoped>\n",
       "    .dataframe tbody tr th:only-of-type {\n",
       "        vertical-align: middle;\n",
       "    }\n",
       "\n",
       "    .dataframe tbody tr th {\n",
       "        vertical-align: top;\n",
       "    }\n",
       "\n",
       "    .dataframe thead th {\n",
       "        text-align: right;\n",
       "    }\n",
       "</style>\n",
       "<table border=\"1\" class=\"dataframe\">\n",
       "  <thead>\n",
       "    <tr style=\"text-align: right;\">\n",
       "      <th></th>\n",
       "      <th>textbook</th>\n",
       "      <th># sentences</th>\n",
       "      <th># zero key terms</th>\n",
       "      <th># non-zero key terms</th>\n",
       "      <th>data split</th>\n",
       "    </tr>\n",
       "  </thead>\n",
       "  <tbody>\n",
       "    <tr>\n",
       "      <th>0</th>\n",
       "      <td>life_biology</td>\n",
       "      <td>28662</td>\n",
       "      <td>343</td>\n",
       "      <td>1957</td>\n",
       "      <td>test</td>\n",
       "    </tr>\n",
       "    <tr>\n",
       "      <th>1</th>\n",
       "      <td>open_stax_anatomy_physiology</td>\n",
       "      <td>17804</td>\n",
       "      <td>79</td>\n",
       "      <td>2948</td>\n",
       "      <td>train</td>\n",
       "    </tr>\n",
       "    <tr>\n",
       "      <th>2</th>\n",
       "      <td>open_stax_astronomy</td>\n",
       "      <td>13384</td>\n",
       "      <td>22</td>\n",
       "      <td>306</td>\n",
       "      <td>train</td>\n",
       "    </tr>\n",
       "    <tr>\n",
       "      <th>3</th>\n",
       "      <td>open_stax_biology_2e</td>\n",
       "      <td>20529</td>\n",
       "      <td>330</td>\n",
       "      <td>1966</td>\n",
       "      <td>dev</td>\n",
       "    </tr>\n",
       "    <tr>\n",
       "      <th>4</th>\n",
       "      <td>open_stax_chemistry_2e</td>\n",
       "      <td>8262</td>\n",
       "      <td>81</td>\n",
       "      <td>677</td>\n",
       "      <td>train</td>\n",
       "    </tr>\n",
       "    <tr>\n",
       "      <th>5</th>\n",
       "      <td>open_stax_microbiology</td>\n",
       "      <td>11509</td>\n",
       "      <td>176</td>\n",
       "      <td>1492</td>\n",
       "      <td>train</td>\n",
       "    </tr>\n",
       "    <tr>\n",
       "      <th>6</th>\n",
       "      <td>open_stax_university_physics_v3</td>\n",
       "      <td>5500</td>\n",
       "      <td>38</td>\n",
       "      <td>362</td>\n",
       "      <td>train</td>\n",
       "    </tr>\n",
       "  </tbody>\n",
       "</table>\n",
       "</div>"
      ],
      "text/plain": [
       "                          textbook  # sentences  # zero key terms  \\\n",
       "0                     life_biology        28662               343   \n",
       "1     open_stax_anatomy_physiology        17804                79   \n",
       "2              open_stax_astronomy        13384                22   \n",
       "3             open_stax_biology_2e        20529               330   \n",
       "4           open_stax_chemistry_2e         8262                81   \n",
       "5           open_stax_microbiology        11509               176   \n",
       "6  open_stax_university_physics_v3         5500                38   \n",
       "\n",
       "   # non-zero key terms data split  \n",
       "0                  1957       test  \n",
       "1                  2948      train  \n",
       "2                   306      train  \n",
       "3                  1966        dev  \n",
       "4                   677      train  \n",
       "5                  1492      train  \n",
       "6                   362      train  "
      ]
     },
     "execution_count": 20,
     "metadata": {},
     "output_type": "execute_result"
    }
   ],
   "source": [
    "df = {}\n",
    "counts = {}\n",
    "df['textbook'] = ['life_biology', 'open_stax_anatomy_physiology', 'open_stax_astronomy', 'open_stax_biology_2e', \n",
    "                  'open_stax_chemistry_2e', 'open_stax_microbiology', 'open_stax_university_physics_v3']\n",
    "df['# sentences'] = []\n",
    "df['# zero key terms'] = []\n",
    "df['# non-zero key terms'] = []\n",
    "df['data split'] = []\n",
    "for textbook in df['textbook']:\n",
    "    \n",
    "    # key term counts\n",
    "    with open('%s/%s_key_term_counts.json' % (data_dir, textbook), 'r') as f:\n",
    "        counts[textbook] = json.load(f)\n",
    "    \n",
    "    df['# zero key terms'].append(len([term for term in counts[textbook] if counts[textbook][term] == 0]))\n",
    "    df['# non-zero key terms'].append(len([term for term in counts[textbook] if counts[textbook][term] > 0]))\n",
    "        \n",
    "    # number of sentences\n",
    "    with open('%s/%s_sentences.txt' % (data_dir, textbook), 'r') as f:\n",
    "        df['# sentences'].append(len(f.readlines()))\n",
    "        \n",
    "    # number of definition sentences    \n",
    "    #with open('%s/%s_sentences.txt' % (data_dir, textbook), 'r') as f:\n",
    "    #    df['# sentences'].append(len(f.readlines()))\n",
    "    \n",
    "    # data split\n",
    "    if textbook == 'life_biology':\n",
    "        df['data split'].append('test')\n",
    "    elif textbook == 'open_stax_biology_2e':\n",
    "        df['data split'].append('dev')\n",
    "    else:\n",
    "        df['data split'].append('train')\n",
    "\n",
    "df = pd.DataFrame(df)\n",
    "df"
   ]
  },
  {
   "cell_type": "markdown",
   "metadata": {},
   "source": [
    "# Accumulate Info On Model Outputs\n",
    "\n",
    "false_pos.txt, false_neg.txt, true_pos.txt are the BERT model outputs.\n",
    "\n",
    "ner_fixed_data is the accumulated train and test data from the textbooks_extracted_copy data where some parsing errors were fixed.\n",
    "\n",
    "We create a dataframe for each term from the above three files containing their model average probability, the term length, their counts in the training and test data, and an indicator for whether they were tagged as a key term in the training data."
   ]
  },
  {
   "cell_type": "code",
   "execution_count": 221,
   "metadata": {
    "ExecuteTime": {
     "end_time": "2019-03-18T06:58:09.203370Z",
     "start_time": "2019-03-18T06:58:08.860698Z"
    }
   },
   "outputs": [],
   "source": [
    "from nltk import word_tokenize\n",
    "from collections import Counter\n",
    "\n",
    "# read in train + test sentences & key terms\n",
    "with open('../data/ner_fixed_data/full/test/sentences.txt') as f:\n",
    "    test_text = ' '.join(f.readlines()).lower()\n",
    "with open('../data/ner_fixed_data/full/test/terms.txt') as f:\n",
    "    test_kts = set([word.replace('\\n', '') for word in f.readlines()])\n",
    "with open('../data/ner_fixed_data/full/train/sentences.txt') as f:\n",
    "    train_text = ' '.join(f.readlines()).lower()\n",
    "with open('../data/ner_fixed_data/full/train/terms.txt') as f:\n",
    "    train_kts = set([word.replace('\\n', '') for word in f.readlines()])"
   ]
  },
  {
   "cell_type": "code",
   "execution_count": 222,
   "metadata": {
    "ExecuteTime": {
     "end_time": "2019-03-18T06:59:00.392556Z",
     "start_time": "2019-03-18T06:58:09.643193Z"
    }
   },
   "outputs": [
    {
     "data": {
      "text/html": [
       "<div>\n",
       "<style scoped>\n",
       "    .dataframe tbody tr th:only-of-type {\n",
       "        vertical-align: middle;\n",
       "    }\n",
       "\n",
       "    .dataframe tbody tr th {\n",
       "        vertical-align: top;\n",
       "    }\n",
       "\n",
       "    .dataframe thead th {\n",
       "        text-align: right;\n",
       "    }\n",
       "</style>\n",
       "<table border=\"1\" class=\"dataframe\">\n",
       "  <thead>\n",
       "    <tr style=\"text-align: right;\">\n",
       "      <th></th>\n",
       "      <th>term</th>\n",
       "      <th>prob</th>\n",
       "      <th>term_length</th>\n",
       "      <th>test_count</th>\n",
       "      <th>train_count</th>\n",
       "      <th>train_kt</th>\n",
       "      <th>class</th>\n",
       "    </tr>\n",
       "  </thead>\n",
       "  <tbody>\n",
       "    <tr>\n",
       "      <th>0</th>\n",
       "      <td>a band</td>\n",
       "      <td>0.586</td>\n",
       "      <td>2</td>\n",
       "      <td>5</td>\n",
       "      <td>6</td>\n",
       "      <td>0</td>\n",
       "      <td>False Positive</td>\n",
       "    </tr>\n",
       "    <tr>\n",
       "      <th>1</th>\n",
       "      <td>a horizon</td>\n",
       "      <td>0.488</td>\n",
       "      <td>2</td>\n",
       "      <td>6</td>\n",
       "      <td>0</td>\n",
       "      <td>0</td>\n",
       "      <td>False Positive</td>\n",
       "    </tr>\n",
       "    <tr>\n",
       "      <th>2</th>\n",
       "      <td>a site</td>\n",
       "      <td>0.784</td>\n",
       "      <td>2</td>\n",
       "      <td>12</td>\n",
       "      <td>10</td>\n",
       "      <td>0</td>\n",
       "      <td>False Positive</td>\n",
       "    </tr>\n",
       "    <tr>\n",
       "      <th>3</th>\n",
       "      <td>abscission zone</td>\n",
       "      <td>0.774</td>\n",
       "      <td>2</td>\n",
       "      <td>1</td>\n",
       "      <td>0</td>\n",
       "      <td>0</td>\n",
       "      <td>False Positive</td>\n",
       "    </tr>\n",
       "    <tr>\n",
       "      <th>4</th>\n",
       "      <td>absorption</td>\n",
       "      <td>0.794</td>\n",
       "      <td>1</td>\n",
       "      <td>51</td>\n",
       "      <td>147</td>\n",
       "      <td>1</td>\n",
       "      <td>False Positive</td>\n",
       "    </tr>\n",
       "  </tbody>\n",
       "</table>\n",
       "</div>"
      ],
      "text/plain": [
       "              term   prob  term_length  test_count  train_count  train_kt  \\\n",
       "0           a band  0.586            2           5            6         0   \n",
       "1        a horizon  0.488            2           6            0         0   \n",
       "2           a site  0.784            2          12           10         0   \n",
       "3  abscission zone  0.774            2           1            0         0   \n",
       "4       absorption  0.794            1          51          147         1   \n",
       "\n",
       "            class  \n",
       "0  False Positive  \n",
       "1  False Positive  \n",
       "2  False Positive  \n",
       "3  False Positive  \n",
       "4  False Positive  "
      ]
     },
     "execution_count": 222,
     "metadata": {},
     "output_type": "execute_result"
    }
   ],
   "source": [
    "output_df = {'term': [], 'prob': [], 'term_length': [], 'test_count': [], 'train_count': [], 'train_kt': [], 'class': []}\n",
    "for output, nice in zip(['false_pos', 'false_neg', 'true_pos'], ['False Positive', 'False Negative', 'True Positive']):\n",
    "    with open('%s_test.txt' % output, 'r') as f:\n",
    "        for l in f.readlines():\n",
    "            if len(l.split(',')) > 2:\n",
    "                continue\n",
    "            term, prob = l.split(',')\n",
    "            output_df['term'].append(term)\n",
    "            output_df['prob'].append(float(prob))\n",
    "            output_df['class'].append(nice)\n",
    "            output_df['term_length'].append(len(term.split(' ')))\n",
    "            \n",
    "                \n",
    "            # how many times it appeared in test data\n",
    "            count = 0\n",
    "            for t in term.split(';'):\n",
    "                count += test_text.count(' ' + t.strip() + ' ')\n",
    "            output_df['test_count'].append(count)\n",
    "            \n",
    "            # determine if term was a training key term and how many times it appeared\n",
    "            count = 0\n",
    "            ins = 0 \n",
    "            for t in term.split(';'):\n",
    "                count += train_text.count(' ' + t.strip() + ' ')\n",
    "                for tk in train_kts:\n",
    "                    for p in tk.split(';'):\n",
    "                        if t.strip() == p.strip():\n",
    "                            ins = 1\n",
    "            output_df['train_count'].append(count)\n",
    "            output_df['train_kt'].append(ins)\n",
    "            \n",
    "output_df = pd.DataFrame(output_df) \n",
    "output_df.head()"
   ]
  },
  {
   "cell_type": "markdown",
   "metadata": {},
   "source": [
    "# Update False Positives w/ Vinay's tagging\n",
    "\n",
    "Vinay went through each term in the false positives and denoted whether he agreed (Y) or disagreed (N) with the labeling in the true fp column. His labels are in the false_pos_test_screenedB.xlsx file. The true fp column is his labeling decision, the notes are notes he made, the category is a column I added to categorize the outputs. \n",
    "\n",
    "Prior to sending him the file I marked all plurals of terms already identified as being in the plural category and I marked all parsing issues where this weird same extra character showed up as the parsing problem category. I additionally check his notes to find all mentions of parsing and plural that I didn't catch and categorize those. Finally I categorize any he labeled as morphological problems as morph var.\n",
    "\n",
    "I then update the previously generated dataframe with these corrections. Specifically I take all terms where he did not explicitly disagree and keep them as false positives. I then take all the terms that were either due to plurals or parsing errors and screen these out as Dataset Errors that are dropped and not included in the evaluation. Finally, I mark all of the remaining terms where he disagreed as True Positives so that corrected plots and metrics can be computed."
   ]
  },
  {
   "cell_type": "code",
   "execution_count": 223,
   "metadata": {
    "ExecuteTime": {
     "end_time": "2019-03-18T07:04:30.057436Z",
     "start_time": "2019-03-18T07:04:29.849425Z"
    }
   },
   "outputs": [
    {
     "data": {
      "text/html": [
       "<div>\n",
       "<style scoped>\n",
       "    .dataframe tbody tr th:only-of-type {\n",
       "        vertical-align: middle;\n",
       "    }\n",
       "\n",
       "    .dataframe tbody tr th {\n",
       "        vertical-align: top;\n",
       "    }\n",
       "\n",
       "    .dataframe thead th {\n",
       "        text-align: right;\n",
       "    }\n",
       "</style>\n",
       "<table border=\"1\" class=\"dataframe\">\n",
       "  <thead>\n",
       "    <tr style=\"text-align: right;\">\n",
       "      <th></th>\n",
       "      <th>term</th>\n",
       "      <th>prob</th>\n",
       "      <th>term_length</th>\n",
       "      <th>test_count</th>\n",
       "      <th>train_count</th>\n",
       "      <th>train_kt</th>\n",
       "      <th>class</th>\n",
       "    </tr>\n",
       "  </thead>\n",
       "  <tbody>\n",
       "    <tr>\n",
       "      <th>0</th>\n",
       "      <td>a band</td>\n",
       "      <td>0.586</td>\n",
       "      <td>2</td>\n",
       "      <td>5</td>\n",
       "      <td>6</td>\n",
       "      <td>0</td>\n",
       "      <td>False Positive</td>\n",
       "    </tr>\n",
       "    <tr>\n",
       "      <th>1</th>\n",
       "      <td>a horizon</td>\n",
       "      <td>0.488</td>\n",
       "      <td>2</td>\n",
       "      <td>6</td>\n",
       "      <td>0</td>\n",
       "      <td>0</td>\n",
       "      <td>False Positive</td>\n",
       "    </tr>\n",
       "    <tr>\n",
       "      <th>2</th>\n",
       "      <td>a site</td>\n",
       "      <td>0.784</td>\n",
       "      <td>2</td>\n",
       "      <td>12</td>\n",
       "      <td>10</td>\n",
       "      <td>0</td>\n",
       "      <td>False Positive</td>\n",
       "    </tr>\n",
       "    <tr>\n",
       "      <th>3</th>\n",
       "      <td>abscission zone</td>\n",
       "      <td>0.774</td>\n",
       "      <td>2</td>\n",
       "      <td>1</td>\n",
       "      <td>0</td>\n",
       "      <td>0</td>\n",
       "      <td>True Positive</td>\n",
       "    </tr>\n",
       "    <tr>\n",
       "      <th>4</th>\n",
       "      <td>absorption</td>\n",
       "      <td>0.794</td>\n",
       "      <td>1</td>\n",
       "      <td>51</td>\n",
       "      <td>147</td>\n",
       "      <td>1</td>\n",
       "      <td>True Positive</td>\n",
       "    </tr>\n",
       "  </tbody>\n",
       "</table>\n",
       "</div>"
      ],
      "text/plain": [
       "              term   prob  term_length  test_count  train_count  train_kt  \\\n",
       "0           a band  0.586            2           5            6         0   \n",
       "1        a horizon  0.488            2           6            0         0   \n",
       "2           a site  0.784            2          12           10         0   \n",
       "3  abscission zone  0.774            2           1            0         0   \n",
       "4       absorption  0.794            1          51          147         1   \n",
       "\n",
       "            class  \n",
       "0  False Positive  \n",
       "1  False Positive  \n",
       "2  False Positive  \n",
       "3   True Positive  \n",
       "4   True Positive  "
      ]
     },
     "execution_count": 223,
     "metadata": {},
     "output_type": "execute_result"
    }
   ],
   "source": [
    "fp_ann = pd.read_excel('false_pos_test_screenedB.xlsx')\n",
    "\n",
    "fp_ann.notes = fp_ann.notes.fillna('').astype(str)\n",
    "fp_ann.loc[fp_ann.notes.str.lower().str.contains('pars'), 'category'] = 'parsing problem'\n",
    "fp_ann.loc[fp_ann.notes.str.lower().str.contains('plural'), 'category'] = 'plural'\n",
    "fp_ann.loc[fp_ann.notes.str.lower().str.contains('morph'), 'category'] = 'morph var'\n",
    "fp_ann.loc[(fp_ann.category.isnull()) & (fp_ann['true fp'].str.strip() == 'N'), 'category'] = 'valid term'\n",
    "fp_ann.loc[(fp_ann.category.isnull()) & (fp_ann['true fp'].str.strip() == 'Y'), 'category'] = 'false positive'\n",
    "fp_ann.category = fp_ann.category.replace({'parsing problem': 'parsing error'})\n",
    "\n",
    "fp_ann = fp_ann.sort_values(by=['category', 'term'])\n",
    "\n",
    "false_poss = fp_ann[fp_ann['true fp'] != 'N'].term\n",
    "screen_errs = fp_ann[(fp_ann['true fp'] != 'Y') & (fp_ann['category'] != 'valid term')].term\n",
    "valid_terms = fp_ann[(fp_ann['true fp'] != 'Y') & (fp_ann['category'] == 'valid term')].term\n",
    "corrected_output = output_df.copy()\n",
    "corrected_output.loc[corrected_output.term.str.strip().isin(valid_terms), 'class'] = 'True Positive'\n",
    "corrected_output.loc[corrected_output.term.str.strip().isin(screen_errs), 'class'] = 'DataSet Error'\n",
    "corrected_output = corrected_output[corrected_output['class'] != 'DataSet Error']\n",
    "corrected_output.head()"
   ]
  },
  {
   "cell_type": "markdown",
   "metadata": {},
   "source": [
    "# Generate Error Analysis Figure\n",
    "\n",
    "Use the false positive annotations file to look by category. Use the corrected dataframe to look at other values across terms."
   ]
  },
  {
   "cell_type": "code",
   "execution_count": 218,
   "metadata": {
    "ExecuteTime": {
     "end_time": "2019-03-17T20:30:01.334245Z",
     "start_time": "2019-03-17T20:29:59.936778Z"
    },
    "scrolled": false
   },
   "outputs": [
    {
     "data": {
      "image/png": "[encoded data removed]",
      "text/plain": [
       "<Figure size 1152x720 with 4 Axes>"
      ]
     },
     "metadata": {},
     "output_type": "display_data"
    }
   ],
   "source": [
    "sns.set(style='white', font_scale=1.5)\n",
    "f, axs = plt.subplots(2, 2, figsize=(16, 10))\n",
    "\n",
    "# plot false positive breakdown\n",
    "sns.countplot(data=fp_ann, x='category', ax=axs[0, 0])\n",
    "axs[0, 0].set_xlabel('False Positive Category')\n",
    "axs[0, 0].set_ylabel('# Terms')\n",
    "\n",
    "# plot training conflict\n",
    "corrected_output['train_conflict'] = (corrected_output['train_count'] > 0).astype(int) * (1 - corrected_output['train_kt'])\n",
    "sns.barplot(x='class', y='train_conflict', data=corrected_output, ax=axs[0, 1], ci=None)\n",
    "axs[0, 1].set_ylabel('Fraction of Terms Conflicting')\n",
    "\n",
    "# split by term count\n",
    "sns.countplot(x='term_length', hue='class', data=corrected_output, ax=axs[1, 0]);\n",
    "axs[1, 0].set_xlabel('Length of Term')\n",
    "axs[1, 0].set_ylabel('# Terms')\n",
    "\n",
    "# model confidence scores\n",
    "sns.distplot(corrected_output[corrected_output['class'] == 'False Positive'].prob, ax=axs[1, 1], kde=False, norm_hist=False)\n",
    "sns.distplot(corrected_output[corrected_output['class'] == 'True Positive'].prob, ax=axs[1, 1], kde=False, norm_hist=False)\n",
    "axs[1, 1].legend(['False Positive', 'True Positive'])\n",
    "axs[1, 1].set_ylabel('# Terms')\n",
    "axs[1, 1].set_xlabel('Model Confidence')\n",
    "\n",
    "plt.tight_layout()\n",
    "plt.savefig('error_analysis.png')\n",
    "plt.show()"
   ]
  },
  {
   "cell_type": "markdown",
   "metadata": {},
   "source": [
    "# Re-compute Updated Metrics w/ Vinay's Tagging"
   ]
  },
  {
   "cell_type": "code",
   "execution_count": 226,
   "metadata": {
    "ExecuteTime": {
     "end_time": "2019-03-18T07:07:50.967842Z",
     "start_time": "2019-03-18T07:07:50.957759Z"
    }
   },
   "outputs": [
    {
     "name": "stdout",
     "output_type": "stream",
     "text": [
      "# FP: 624, # TP: 2245, # FN: 896\n",
      "Corrected Recall: 0.715, Precision: 0.783, F1: 0.747\n"
     ]
    }
   ],
   "source": [
    "fp = corrected_output[corrected_output['class'] == 'False Positive'].shape[0]\n",
    "tp = corrected_output[corrected_output['class'] == 'True Positive'].shape[0]\n",
    "fn = corrected_output[corrected_output['class'] == 'False Negative'].shape[0]\n",
    "\n",
    "recall = float(tp) / (tp + fn)\n",
    "precision = float(tp) / (tp + fp)\n",
    "f1 = 2 * precision * recall / (precision + recall)\n",
    "print('# FP: %d, # TP: %d, # FN: %d' % (fp, tp, fn))\n",
    "print('Corrected Recall: %.3f, Precision: %.3f, F1: %.3f' % (recall, precision, f1))"
   ]
  },
  {
   "cell_type": "code",
   "execution_count": null,
   "metadata": {},
   "outputs": [],
   "source": []
  }
 ],
 "metadata": {
  "kernelspec": {
   "display_name": "Python 3",
   "language": "python",
   "name": "python3"
  },
  "language_info": {
   "codemirror_mode": {
    "name": "ipython",
    "version": 3
   },
   "file_extension": ".py",
   "mimetype": "text/x-python",
   "name": "python",
   "nbconvert_exporter": "python",
   "pygments_lexer": "ipython3",
   "version": "3.7.1"
  },
  "toc": {
   "base_numbering": 1,
   "nav_menu": {},
   "number_sections": true,
   "sideBar": true,
   "skip_h1_title": false,
   "title_cell": "Table of Contents",
   "title_sidebar": "Contents",
   "toc_cell": false,
   "toc_position": {},
   "toc_section_display": true,
   "toc_window_display": false
  }
 },
 "nbformat": 4,
 "nbformat_minor": 2
}
